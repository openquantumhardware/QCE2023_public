{
 "cells": [
  {
   "cell_type": "markdown",
   "metadata": {},
   "source": [
    "This example reads continuously the phase at a fixed frequency, near the resonator location. It then creates a trigger that causes the resonator to move. It will show as a phase jump followed by a recovery given by the resonator sweep time."
   ]
  },
  {
   "cell_type": "code",
   "execution_count": 1,
   "metadata": {},
   "outputs": [],
   "source": [
    "import sys\n",
    "# sys.path.append('../qick/qick_lib/')\n",
    "sys.path.append('soft/')\n",
    "\n",
    "from qick import *\n",
    "from qick_training import *\n",
    "\n",
    "from qick.averager_program import QickSweep\n",
    "from qick.averager_program import QickRegister\n",
    "from qick.averager_program import merge_sweeps\n",
    "\n",
    "import numpy as np\n",
    "import matplotlib.pyplot as plt\n",
    "from numpy.fft import fft, fftshift\n",
    "from tqdm.notebook import tqdm"
   ]
  },
  {
   "cell_type": "code",
   "execution_count": 2,
   "metadata": {},
   "outputs": [
    {
     "data": {
      "application/javascript": [
       "\n",
       "try {\n",
       "require(['notebook/js/codecell'], function(codecell) {\n",
       "  codecell.CodeCell.options_default.highlight_modes[\n",
       "      'magic_text/x-csrc'] = {'reg':[/^%%microblaze/]};\n",
       "  Jupyter.notebook.events.one('kernel_ready.Kernel', function(){\n",
       "      Jupyter.notebook.get_cells().map(function(cell){\n",
       "          if (cell.cell_type == 'code'){ cell.auto_highlight(); } }) ;\n",
       "  });\n",
       "});\n",
       "} catch (e) {};\n"
      ]
     },
     "metadata": {},
     "output_type": "display_data"
    },
    {
     "data": {
      "application/javascript": [
       "\n",
       "try {\n",
       "require(['notebook/js/codecell'], function(codecell) {\n",
       "  codecell.CodeCell.options_default.highlight_modes[\n",
       "      'magic_text/x-csrc'] = {'reg':[/^%%pybind11/]};\n",
       "  Jupyter.notebook.events.one('kernel_ready.Kernel', function(){\n",
       "      Jupyter.notebook.get_cells().map(function(cell){\n",
       "          if (cell.cell_type == 'code'){ cell.auto_highlight(); } }) ;\n",
       "  });\n",
       "});\n",
       "} catch (e) {};\n"
      ]
     },
     "metadata": {},
     "output_type": "display_data"
    },
    {
     "name": "stdout",
     "output_type": "stream",
     "text": [
      "\n",
      "QICK configuration:\n",
      "\n",
      "\tBoard: ZCU208\n",
      "\n",
      "\tGlobal clocks (MHz): tProcessor 349.997, RF reference 245.760\n",
      "\n",
      "\t6 signal generator channels:\n",
      "\t0:\taxis_sg_int4_v1 - tProc output 0, envelope memory 4096 samples\n",
      "\t\tDAC tile 2, blk 0, 16-bit DDS, fabric=307.200 MHz, f_dds=1228.800 MHz\n",
      "\t1:\taxis_sg_int4_v1 - tProc output 1, envelope memory 4096 samples\n",
      "\t\tDAC tile 2, blk 1, 16-bit DDS, fabric=307.200 MHz, f_dds=1228.800 MHz\n",
      "\t2:\taxis_sg_int4_v1 - tProc output 2, envelope memory 4096 samples\n",
      "\t\tDAC tile 2, blk 2, 16-bit DDS, fabric=307.200 MHz, f_dds=1228.800 MHz\n",
      "\t3:\taxis_sg_int4_v1 - tProc output 3, envelope memory 4096 samples\n",
      "\t\tDAC tile 2, blk 3, 16-bit DDS, fabric=307.200 MHz, f_dds=1228.800 MHz\n",
      "\t4:\taxis_signal_gen_v6 - tProc output 4, envelope memory 65536 samples\n",
      "\t\tDAC tile 3, blk 0, 32-bit DDS, fabric=307.200 MHz, f_dds=4915.200 MHz\n",
      "\t5:\taxis_sg_mux4_v1 - tProc output 6, envelope memory 0 samples\n",
      "\t\tDAC tile 0, blk 0, 16-bit DDS, fabric=307.200 MHz, f_dds=1228.800 MHz\n",
      "\n",
      "\t8 readout channels:\n",
      "\t0:\taxis_pfb_readout_v2 - controlled by PYNQ\n",
      "\t\tADC tile 2, blk 0, 35-bit DDS, fabric=307.200 MHz, fs=2457.600 MHz\n",
      "\t\tmaxlen 16384 (avg) 16384 (decimated), trigger bit 4, tProc input 0\n",
      "\t1:\taxis_pfb_readout_v2 - controlled by PYNQ\n",
      "\t\tADC tile 2, blk 0, 35-bit DDS, fabric=307.200 MHz, fs=2457.600 MHz\n",
      "\t\tmaxlen 16384 (avg) 16384 (decimated), trigger bit 5, tProc input 1\n",
      "\t2:\taxis_pfb_readout_v2 - controlled by PYNQ\n",
      "\t\tADC tile 2, blk 0, 35-bit DDS, fabric=307.200 MHz, fs=2457.600 MHz\n",
      "\t\tmaxlen 16384 (avg) 16384 (decimated), trigger bit 6, tProc input 2\n",
      "\t3:\taxis_pfb_readout_v2 - controlled by PYNQ\n",
      "\t\tADC tile 2, blk 0, 35-bit DDS, fabric=307.200 MHz, fs=2457.600 MHz\n",
      "\t\tmaxlen 16384 (avg) 16384 (decimated), trigger bit 7, tProc input 3\n",
      "\t4:\taxis_readout_v2 - controlled by PYNQ\n",
      "\t\tADC tile 3, blk 0, 32-bit DDS, fabric=307.200 MHz, fs=2457.600 MHz\n",
      "\t\tmaxlen 16384 (avg) 16384 (decimated), trigger bit 8, tProc input -1\n",
      "\t5:\taxis_readout_v2 - controlled by PYNQ\n",
      "\t\tADC tile 3, blk 1, 32-bit DDS, fabric=307.200 MHz, fs=2457.600 MHz\n",
      "\t\tmaxlen 16384 (avg) 16384 (decimated), trigger bit 9, tProc input -1\n",
      "\t6:\taxis_readout_v2 - controlled by PYNQ\n",
      "\t\tADC tile 3, blk 2, 32-bit DDS, fabric=307.200 MHz, fs=2457.600 MHz\n",
      "\t\tmaxlen 16384 (avg) 16384 (decimated), trigger bit 10, tProc input -1\n",
      "\t7:\taxis_readout_v2 - controlled by PYNQ\n",
      "\t\tADC tile 3, blk 3, 32-bit DDS, fabric=307.200 MHz, fs=2457.600 MHz\n",
      "\t\tmaxlen 16384 (avg) 16384 (decimated), trigger bit 11, tProc input -1\n",
      "\n",
      "\t7 DACs:\n",
      "\t\tDAC tile 0, blk 0 is 0_228, on JHC1\n",
      "\t\tDAC tile 1, blk 0 is 0_229, on JHC1\n",
      "\t\tDAC tile 2, blk 0 is 0_230, on JHC3\n",
      "\t\tDAC tile 2, blk 1 is 1_230, on JHC4\n",
      "\t\tDAC tile 2, blk 2 is 2_230, on JHC3\n",
      "\t\tDAC tile 2, blk 3 is 3_230, on JHC4\n",
      "\t\tDAC tile 3, blk 0 is 0_231, on JHC3\n",
      "\n",
      "\t6 ADCs:\n",
      "\t\tADC tile 2, blk 0 is 0_226, on JHC7\n",
      "\t\tADC tile 2, blk 2 is 2_226, on JHC7\n",
      "\t\tADC tile 3, blk 0 is 0_227, on JHC7\n",
      "\t\tADC tile 3, blk 1 is 1_227, on JHC8\n",
      "\t\tADC tile 3, blk 2 is 2_227, on JHC7\n",
      "\t\tADC tile 3, blk 3 is 3_227, on JHC8\n",
      "\n",
      "\t4 digital output pins (tProc output 7):\n",
      "\t0:\tPMOD0_0_LS\n",
      "\t1:\tPMOD0_1_LS\n",
      "\t2:\tPMOD0_2_LS\n",
      "\t3:\tPMOD0_3_LS\n",
      "\n",
      "\ttProc: program memory 1024 words, data memory 1024 words\n",
      "\t\texternal start pin: PMOD1_0_LS\n"
     ]
    }
   ],
   "source": [
    "# Initialize Firmware.\n",
    "soc = QickTrainingSoc('./qick_training.bit')\n",
    "\n",
    "# Print information.\n",
    "soccfg = soc\n",
    "print(soc)"
   ]
  },
  {
   "cell_type": "code",
   "execution_count": 3,
   "metadata": {},
   "outputs": [],
   "source": [
    "######################################\n",
    "### Build Resonator Emulator Chain ###\n",
    "######################################\n",
    "simu = SimuChain(soc,soc['simu'][0], name=\"226_2 <-> 229_0\")"
   ]
  },
  {
   "cell_type": "code",
   "execution_count": 21,
   "metadata": {},
   "outputs": [],
   "source": [
    "###############################\n",
    "### Resonator Configuration ###\n",
    "###############################\n",
    "simu.qout(3)\n",
    "#simu.synthesis.qout(1)\n",
    "\n",
    "# Disable all resonators.\n",
    "simu.alloff()\n",
    "\n",
    "# Enable resonator.\n",
    "simu.enable(499.3, t=125, N=1)\n",
    "# simu.enable(499.3)\n",
    "#simu.enable(503)\n",
    "#simu.enable(800)\n",
    "#simu.enable(1105)\n",
    "\n",
    "#simu.disable(595)\n",
    "#simu.disable(600)\n",
    "#simu.disable(605)"
   ]
  },
  {
   "cell_type": "code",
   "execution_count": 22,
   "metadata": {},
   "outputs": [
    {
     "data": {
      "image/png": "[encoded data removed]",
      "text/plain": [
       "<Figure size 900x600 with 1 Axes>"
      ]
     },
     "metadata": {
      "needs_background": "light"
     },
     "output_type": "display_data"
    }
   ],
   "source": [
    "class PhaseFastProgram(AveragerProgram):\n",
    "    def initialize(self):\n",
    "        # Set the nyquist zone\n",
    "        self.declare_gen(ch=self.cfg[\"gen_ch\"], nqz=1)\n",
    "                        \n",
    "        # First channel.\n",
    "        length   = self.us2cycles(self.cfg['pulse_length'],gen_ch=self.cfg['gen_ch'])\n",
    "        freq_gen = self.freq2reg(self.cfg['pulse_freq'],gen_ch=self.cfg['gen_ch'],ro_ch=self.cfg['ro_ch'])\n",
    "        self.default_pulse_registers(ch     = self.cfg['gen_ch'],\n",
    "                                     style  = 'const',\n",
    "                                     length = length,\n",
    "                                     freq   = freq_gen,\n",
    "                                     phase  = 0,\n",
    "                                     gain   = self.cfg['pulse_gain'])\n",
    "        \n",
    "        # Readout.\n",
    "        self.declare_readout(ch      = self.cfg['ro_ch'], \n",
    "                             length  = self.us2cycles(0.7*self.cfg['period'], ro_ch = self.cfg['ro_ch']),\n",
    "                             freq    = self.cfg['pulse_freq'],                             \n",
    "                             gen_ch  = self.cfg['gen_ch'])\n",
    "        \n",
    "        # Registers.\n",
    "        self.set_pulse_registers(ch=self.cfg['gen_ch'], phrst=0, mode=\"periodic\")\n",
    "        \n",
    "        # Write conditional register.\n",
    "        self.regwi(0,2,self.cfg['cond_jump'],\"Conditional Jump\")\n",
    "        \n",
    "        # Send pulse out.\n",
    "        self.pulse(ch=self.cfg[\"gen_ch\"])\n",
    "        \n",
    "        # Sync.\n",
    "        self.synci(self.us2cycles(self.cfg['wait_start']))\n",
    "    \n",
    "    def body(self):\n",
    "\n",
    "        # Apply conditional logic statement: When number is smaller than threshold, skip over playing the pulse.\n",
    "        self.condj(0,2,'!=',15,'JUMP')\n",
    "        self.trigger(pins=[12,13,14,15,16,17,18,19]) # play readout pulse\n",
    "        self.label('JUMP')\n",
    "        \n",
    "        self.trigger(adcs=self.ro_chs, pins=[0])                \n",
    "        self.synci(self.us2cycles(self.cfg['period']))\n",
    "        \n",
    "config={\"gen_ch\"      : 4,\n",
    "        \"ro_ch\"       : 4,\n",
    "        \"reps\"        : 1800,\n",
    "        \"pulse_length\": 10,\n",
    "        \"pulse_gain\"  : 8000, # [DAC units]\n",
    "        \"pulse_freq\"  : 498, # [MHz]\n",
    "        \"cond_jump\"   : 10,\n",
    "        \"period\"      : 0.1,\n",
    "        \"wait_start\"  : 20\n",
    "       }\n",
    "\n",
    "prog = PhaseFastProgram(soccfg, config)\n",
    "prog.acquire(soc, progress=False)\n",
    "\n",
    "# Plot data.\n",
    "nsamp = prog.ro_chs[config['ro_ch']]['length']\n",
    "di = prog.di_buf[0]/nsamp\n",
    "dq = prog.dq_buf[0]/nsamp\n",
    "diq = di + 1j*dq\n",
    "a = np.abs(diq)\n",
    "phi = np.angle(diq)\n",
    "n = config['period']*np.arange(len(di))\n",
    "\n",
    "#Plot results.\n",
    "# plt.figure(dpi=150)\n",
    "# plt.plot(n,di)\n",
    "# plt.title(\"Real Part\")\n",
    "\n",
    "# plt.figure(dpi=150)\n",
    "# plt.plot(n,dq)\n",
    "# plt.title(\"Imaginary Part\")\n",
    "\n",
    "plt.figure(dpi=150)\n",
    "plt.plot(n,np.unwrap(phi))\n",
    "plt.xlabel(\"Time [us]\");\n",
    "plt.title(\"Phi\");"
   ]
  },
  {
   "cell_type": "code",
   "execution_count": 23,
   "metadata": {},
   "outputs": [
    {
     "name": "stdout",
     "output_type": "stream",
     "text": [
      "\n",
      "// Program\n",
      "\n",
      "        regwi 2, $21, 435159040;                //freq = 435159040\n",
      "        regwi 2, $22, 0;                        //phase = 0\n",
      "        regwi 2, $24, 8000;                     //gain = 8000\n",
      "        regwi 2, $25, 855040;                   //phrst| stdysel | mode | | outsel = 0b01101 | length = 3072 \n",
      "        regwi 0, $2, 10;                        //Conditional Jump\n",
      "        regwi 2, $26, 0;                        //t = 0\n",
      "        set 4, 2, $21, $22, $0, $24, $25, $26;  //ch = 4, pulse @t = $26\n",
      "        synci 7000;\n",
      "        regwi 0, $15, 0;\n",
      "        regwi 0, $14, 1799;\n",
      "LOOP_J: condj 0, $2, !=, $15, @JUMP;\n",
      "        regwi 0, $31, 1044480;                  //out = 0b11111111000000000000\n",
      "        seti 7, 0, $31, 0;                      //ch =0 out = $31 @t = 0\n",
      "        seti 7, 0, $0, 10;                      //ch =0 out = 0 @t = 0\n",
      "JUMP:   regwi 0, $31, 257;                      //out = 0b0000000100000001\n",
      "        seti 7, 0, $31, 270;                    //ch =0 out = $31 @t = 0\n",
      "        seti 7, 0, $0, 280;                     //ch =0 out = 0 @t = 0\n",
      "        synci 35;\n",
      "        mathi 0, $15, $15 + 1;\n",
      "        memwi 0, $15, 1;\n",
      "        loopnz 0, $14, @LOOP_J;\n",
      "        end ;\n"
     ]
    }
   ],
   "source": [
    "print(prog)"
   ]
  },
  {
   "cell_type": "code",
   "execution_count": null,
   "metadata": {},
   "outputs": [],
   "source": []
  }
 ],
 "metadata": {
  "kernelspec": {
   "display_name": "Python 3 (ipykernel)",
   "language": "python",
   "name": "python3"
  },
  "language_info": {
   "codemirror_mode": {
    "name": "ipython",
    "version": 3
   },
   "file_extension": ".py",
   "mimetype": "text/x-python",
   "name": "python",
   "nbconvert_exporter": "python",
   "pygments_lexer": "ipython3",
   "version": "3.10.4"
  }
 },
 "nbformat": 4,
 "nbformat_minor": 4
}
