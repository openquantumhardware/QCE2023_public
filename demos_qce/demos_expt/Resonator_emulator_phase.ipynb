{
 "cells": [
  {
   "cell_type": "markdown",
   "metadata": {},
   "source": [
    "# Controlling the resonator (making it jump)\n",
    "\n",
    "This example continuously reads the phase at a fixed frequency, near the resonator location. It then creates a trigger that causes the resonator to move. It will show as a phase jump followed by a recovery given by the resonator sweep time."
   ]
  },
  {
   "cell_type": "code",
   "execution_count": 1,
   "metadata": {},
   "outputs": [],
   "source": [
    "import sys\n",
    "# sys.path.append('../qick/qick_lib/')\n",
    "sys.path.append('../soft/')\n",
    "sys.path.append('../firmware/')\n",
    "\n",
    "from qick import *\n",
    "from qick_training import *\n",
    "\n",
    "from qick.averager_program import QickSweep\n",
    "from qick.averager_program import QickRegister\n",
    "from qick.averager_program import merge_sweeps\n",
    "\n",
    "import numpy as np\n",
    "import matplotlib.pyplot as plt\n",
    "from numpy.fft import fft, fftshift\n",
    "from tqdm.notebook import tqdm"
   ]
  },
  {
   "cell_type": "code",
   "execution_count": 2,
   "metadata": {},
   "outputs": [
    {
     "data": {
      "application/javascript": [
       "\n",
       "try {\n",
       "require(['notebook/js/codecell'], function(codecell) {\n",
       "  codecell.CodeCell.options_default.highlight_modes[\n",
       "      'magic_text/x-csrc'] = {'reg':[/^%%microblaze/]};\n",
       "  Jupyter.notebook.events.one('kernel_ready.Kernel', function(){\n",
       "      Jupyter.notebook.get_cells().map(function(cell){\n",
       "          if (cell.cell_type == 'code'){ cell.auto_highlight(); } }) ;\n",
       "  });\n",
       "});\n",
       "} catch (e) {};\n"
      ]
     },
     "metadata": {},
     "output_type": "display_data"
    },
    {
     "data": {
      "application/javascript": [
       "\n",
       "try {\n",
       "require(['notebook/js/codecell'], function(codecell) {\n",
       "  codecell.CodeCell.options_default.highlight_modes[\n",
       "      'magic_text/x-csrc'] = {'reg':[/^%%pybind11/]};\n",
       "  Jupyter.notebook.events.one('kernel_ready.Kernel', function(){\n",
       "      Jupyter.notebook.get_cells().map(function(cell){\n",
       "          if (cell.cell_type == 'code'){ cell.auto_highlight(); } }) ;\n",
       "  });\n",
       "});\n",
       "} catch (e) {};\n"
      ]
     },
     "metadata": {},
     "output_type": "display_data"
    },
    {
     "name": "stdout",
     "output_type": "stream",
     "text": [
      "\n",
      "QICK configuration:\n",
      "\n",
      "\tBoard: ZCU216\n",
      "\n",
      "\tSoftware version: 0.2.175\n",
      "\tFirmware timestamp: Wed Sep  6 15:36:36 2023\n",
      "\n",
      "\tGlobal clocks (MHz): tProcessor 349.997, RF reference 245.760\n",
      "\n",
      "\t7 signal generator channels:\n",
      "\t0:\taxis_sg_int4_v1 - tProc output 0, envelope memory 4096 samples\n",
      "\t\tDAC tile 2, blk 0, 16-bit DDS, fabric=307.200 MHz, f_dds=1228.800 MHz\n",
      "\t1:\taxis_sg_int4_v1 - tProc output 1, envelope memory 4096 samples\n",
      "\t\tDAC tile 2, blk 1, 16-bit DDS, fabric=307.200 MHz, f_dds=1228.800 MHz\n",
      "\t2:\taxis_sg_int4_v1 - tProc output 2, envelope memory 4096 samples\n",
      "\t\tDAC tile 2, blk 2, 16-bit DDS, fabric=307.200 MHz, f_dds=1228.800 MHz\n",
      "\t3:\taxis_sg_int4_v1 - tProc output 3, envelope memory 4096 samples\n",
      "\t\tDAC tile 2, blk 3, 16-bit DDS, fabric=307.200 MHz, f_dds=1228.800 MHz\n",
      "\t4:\taxis_signal_gen_v6 - tProc output 4, envelope memory 65536 samples\n",
      "\t\tDAC tile 3, blk 0, 32-bit DDS, fabric=307.200 MHz, f_dds=4915.200 MHz\n",
      "\t5:\taxis_signal_gen_v6 - tProc output 5, envelope memory 65536 samples\n",
      "\t\tDAC tile 3, blk 2, 32-bit DDS, fabric=307.200 MHz, f_dds=4915.200 MHz\n",
      "\t6:\taxis_sg_mux4_v2 - tProc output 6, envelope memory 0 samples\n",
      "\t\tDAC tile 0, blk 0, 32-bit DDS, fabric=307.200 MHz, f_dds=1228.800 MHz\n",
      "\n",
      "\t8 readout channels:\n",
      "\t0:\taxis_pfb_readout_v2 - controlled by PYNQ\n",
      "\t\tADC tile 2, blk 0, 35-bit DDS, fabric=307.200 MHz, fs=2457.600 MHz\n",
      "\t\tmaxlen 16384 (avg) 16384 (decimated)\n",
      "\t\ttriggered by output 7, pin 4, feedback to tProc input 0\n",
      "\t1:\taxis_pfb_readout_v2 - controlled by PYNQ\n",
      "\t\tADC tile 2, blk 0, 35-bit DDS, fabric=307.200 MHz, fs=2457.600 MHz\n",
      "\t\tmaxlen 16384 (avg) 16384 (decimated)\n",
      "\t\ttriggered by output 7, pin 5, feedback to tProc input 1\n",
      "\t2:\taxis_pfb_readout_v2 - controlled by PYNQ\n",
      "\t\tADC tile 2, blk 0, 35-bit DDS, fabric=307.200 MHz, fs=2457.600 MHz\n",
      "\t\tmaxlen 16384 (avg) 16384 (decimated)\n",
      "\t\ttriggered by output 7, pin 6, feedback to tProc input 2\n",
      "\t3:\taxis_pfb_readout_v2 - controlled by PYNQ\n",
      "\t\tADC tile 2, blk 0, 35-bit DDS, fabric=307.200 MHz, fs=2457.600 MHz\n",
      "\t\tmaxlen 16384 (avg) 16384 (decimated)\n",
      "\t\ttriggered by output 7, pin 7, feedback to tProc input 3\n",
      "\t4:\taxis_readout_v2 - controlled by PYNQ\n",
      "\t\tADC tile 3, blk 0, 32-bit DDS, fabric=307.200 MHz, fs=2457.600 MHz\n",
      "\t\tmaxlen 16384 (avg) 16384 (decimated)\n",
      "\t\ttriggered by output 7, pin 8, feedback to tProc input -1\n",
      "\t5:\taxis_readout_v2 - controlled by PYNQ\n",
      "\t\tADC tile 3, blk 1, 32-bit DDS, fabric=307.200 MHz, fs=2457.600 MHz\n",
      "\t\tmaxlen 16384 (avg) 16384 (decimated)\n",
      "\t\ttriggered by output 7, pin 9, feedback to tProc input -1\n",
      "\t6:\taxis_readout_v2 - controlled by PYNQ\n",
      "\t\tADC tile 3, blk 2, 32-bit DDS, fabric=307.200 MHz, fs=2457.600 MHz\n",
      "\t\tmaxlen 16384 (avg) 16384 (decimated)\n",
      "\t\ttriggered by output 7, pin 10, feedback to tProc input -1\n",
      "\t7:\taxis_readout_v2 - controlled by PYNQ\n",
      "\t\tADC tile 3, blk 3, 32-bit DDS, fabric=307.200 MHz, fs=2457.600 MHz\n",
      "\t\tmaxlen 16384 (avg) 16384 (decimated)\n",
      "\t\ttriggered by output 7, pin 11, feedback to tProc input -1\n",
      "\n",
      "\t8 DACs:\n",
      "\t\tDAC tile 0, blk 0 is 0_228, on JHC1\n",
      "\t\tDAC tile 1, blk 0 is 0_229, on JHC1\n",
      "\t\tDAC tile 2, blk 0 is 0_230, on JHC3\n",
      "\t\tDAC tile 2, blk 1 is 1_230, on JHC4\n",
      "\t\tDAC tile 2, blk 2 is 2_230, on JHC3\n",
      "\t\tDAC tile 2, blk 3 is 3_230, on JHC4\n",
      "\t\tDAC tile 3, blk 0 is 0_231, on JHC3\n",
      "\t\tDAC tile 3, blk 2 is 2_231, on JHC3\n",
      "\n",
      "\t6 ADCs:\n",
      "\t\tADC tile 2, blk 0 is 0_226, on JHC7\n",
      "\t\tADC tile 2, blk 2 is 2_226, on JHC7\n",
      "\t\tADC tile 3, blk 0 is 0_227, on JHC7\n",
      "\t\tADC tile 3, blk 1 is 1_227, on JHC8\n",
      "\t\tADC tile 3, blk 2 is 2_227, on JHC7\n",
      "\t\tADC tile 3, blk 3 is 3_227, on JHC8\n",
      "\n",
      "\t12 digital output pins:\n",
      "\t0:\tPMOD0_0_LS (output 7, pin 0)\n",
      "\t1:\tPMOD0_1_LS (output 7, pin 1)\n",
      "\t2:\tPMOD0_2_LS (output 7, pin 2)\n",
      "\t3:\tPMOD0_3_LS (output 7, pin 3)\n",
      "\t4:\tResonator 0 (output 7, pin 12)\n",
      "\t5:\tResonator 1 (output 7, pin 13)\n",
      "\t6:\tResonator 2 (output 7, pin 14)\n",
      "\t7:\tResonator 3 (output 7, pin 15)\n",
      "\t8:\tResonator 4 (output 7, pin 16)\n",
      "\t9:\tResonator 5 (output 7, pin 17)\n",
      "\t10:\tResonator 6 (output 7, pin 18)\n",
      "\t11:\tResonator 7 (output 7, pin 19)\n",
      "\n",
      "\ttProc axis_tproc64x32_x8: program memory 1024 words, data memory 1024 words\n",
      "\t\texternal start pin: PMOD1_0_LS\n"
     ]
    }
   ],
   "source": [
    "# Initialize Firmware.\n",
    "soc = QickTrainingSoc('../firmware/qick_training.bit')\n",
    "\n",
    "# Print information.\n",
    "soccfg = soc\n",
    "print(soc)"
   ]
  },
  {
   "cell_type": "code",
   "execution_count": 3,
   "metadata": {},
   "outputs": [],
   "source": [
    "######################################\n",
    "### Build Resonator Emulator Chain ###\n",
    "######################################\n",
    "simu = SimuChain(soc,soc['simu'][0], name=\"226_2 <-> 229_0\")"
   ]
  },
  {
   "cell_type": "code",
   "execution_count": 4,
   "metadata": {},
   "outputs": [
    {
     "name": "stdout",
     "output_type": "stream",
     "text": [
      "SimuChain: f = 499.3 MHz, fd = -115.09999999999997 MHz, k = 232, fdds = 0.10000000000002274 MHz\n",
      "AxisKidsimV3: sel        = resonator\n",
      "AxisKidsimV3: channel    = 232\n",
      "AxisKidsimV3: lane       = 0\n",
      "AxisKidsimV3: punct_id   = 29\n",
      "AxisKidsimV3: iir_c0     = 0.99\n",
      "AxisKidsimV3: iir_c1     = 0.8\n",
      "AxisKidsimV3: iir_g      = 0.9045226130653267\n",
      "AxisKidsimV3: dds_freq   = 0.10000000000002274\n",
      "AxisKidsimV3: dds_wait   = 4799\n",
      "AxisKidsimV3: sweep_freq = 0.9\n",
      "AxisKidsimV3: sweep_time = 500\n",
      "AxisKidsimV3: nstep      = 1\n",
      "freq = 683, bval = 6144, slope = 6144, steps = 1, wait = 4799\n",
      "c0 = 32440, c1 = 26214, g = 29639\n",
      "sel = 0, punct_id = 29, addr = 0\n"
     ]
    }
   ],
   "source": [
    "###############################\n",
    "### Resonator Configuration ###\n",
    "###############################\n",
    "simu.qout(3)\n",
    "#simu.synthesis.qout(1)\n",
    "\n",
    "# Disable all resonators.\n",
    "simu.alloff()\n",
    "\n",
    "### Resonator configuration. Note that some of these config parameters depend on each other, \n",
    "### so not every configuration is possible.\n",
    "cfg = {'sel' : 'resonator', 'freq' : 499.3}\n",
    "cfg['nstep'] = 1 # 3\n",
    "cfg['sweep_time'] = 500 # 100\n",
    "simu.set_resonator(cfg, verbose=True)"
   ]
  },
  {
   "cell_type": "code",
   "execution_count": 5,
   "metadata": {},
   "outputs": [
    {
     "data": {
      "image/png": "[encoded data removed]",
      "text/plain": [
       "<Figure size 900x600 with 1 Axes>"
      ]
     },
     "metadata": {
      "needs_background": "light"
     },
     "output_type": "display_data"
    }
   ],
   "source": [
    "class PhaseFastProgram(AveragerProgram):\n",
    "    def initialize(self):\n",
    "        # Set the nyquist zone\n",
    "        self.declare_gen(ch=self.cfg[\"gen_ch\"], nqz=1)\n",
    "                        \n",
    "        # First channel.\n",
    "        length   = self.us2cycles(self.cfg['pulse_length'],gen_ch=self.cfg['gen_ch'])\n",
    "        freq_gen = self.freq2reg(self.cfg['pulse_freq'],gen_ch=self.cfg['gen_ch'],ro_ch=self.cfg['ro_ch'])\n",
    "        self.default_pulse_registers(ch     = self.cfg['gen_ch'],\n",
    "                                     style  = 'const',\n",
    "                                     length = length,\n",
    "                                     freq   = freq_gen,\n",
    "                                     phase  = 0,\n",
    "                                     gain   = self.cfg['pulse_gain'])\n",
    "        \n",
    "        # Readout.\n",
    "        self.declare_readout(ch      = self.cfg['ro_ch'], \n",
    "                             length  = self.us2cycles(0.7*self.cfg['period'], ro_ch = self.cfg['ro_ch']),\n",
    "                             freq    = self.cfg['pulse_freq'],                             \n",
    "                             gen_ch  = self.cfg['gen_ch'])\n",
    "        \n",
    "        # Registers.\n",
    "        self.set_pulse_registers(ch=self.cfg['gen_ch'], phrst=0, mode=\"periodic\")\n",
    "        \n",
    "        # Write conditional register.\n",
    "        self.regwi(0,2,self.cfg['cond_jump'],\"Conditional Jump\")\n",
    "        \n",
    "        # Send pulse out.\n",
    "        self.pulse(ch=self.cfg[\"gen_ch\"])\n",
    "        \n",
    "        # Sync.\n",
    "        self.synci(self.us2cycles(self.cfg['wait_start']))\n",
    "    \n",
    "    def body(self):\n",
    "        # Apply conditional logic statement: When number is smaller than threshold, skip over playing the pulse.\n",
    "        self.condj(0,2,'!=',15,'JUMP')\n",
    "        self.trigger(pins=[4,5,6,7,8,9,10,11]) # play readout pulse\n",
    "        self.label('JUMP')\n",
    "        \n",
    "        self.trigger(adcs=self.ro_chs, pins=[0])                \n",
    "        self.synci(self.us2cycles(self.cfg['period']))\n",
    "        \n",
    "config={\"gen_ch\"      : 2,\n",
    "        \"ro_ch\"       : 6,\n",
    "        \"reps\"        : 10000,\n",
    "        \"pulse_length\": 10,\n",
    "        \"pulse_gain\"  : 30000, # [DAC units]\n",
    "        \"pulse_freq\"  : 498, # [MHz]\n",
    "        \"cond_jump\"   : 10,\n",
    "        \"period\"      : 0.1,\n",
    "        \"wait_start\"  : 20\n",
    "       }\n",
    "\n",
    "prog = PhaseFastProgram(soccfg, config)\n",
    "prog.acquire(soc, progress=False)\n",
    "\n",
    "# Plot data.\n",
    "nsamp = prog.ro_chs[config['ro_ch']]['length'] # samples for each capture\n",
    "di = prog.di_buf[0]/nsamp # Averaging\n",
    "dq = prog.dq_buf[0]/nsamp # Averaging\n",
    "diq = di + 1j*dq\n",
    "a = np.abs(diq)\n",
    "phi = np.angle(diq)\n",
    "n = config['period']*np.arange(len(di)) # Sampling period\n",
    "\n",
    "#Plot results.\n",
    "# plt.figure(dpi=150)\n",
    "# plt.plot(n,di)\n",
    "# plt.title(\"Real Part\")\n",
    "\n",
    "# plt.figure(dpi=150)\n",
    "# plt.plot(n,dq)\n",
    "# plt.title(\"Imaginary Part\")\n",
    "\n",
    "plt.figure(dpi=150)\n",
    "plt.plot(n,np.unwrap(phi))\n",
    "plt.xlabel(\"Time [us]\");\n",
    "plt.title(\"Phi\");"
   ]
  },
  {
   "cell_type": "code",
   "execution_count": 6,
   "metadata": {},
   "outputs": [],
   "source": [
    "#print(prog)"
   ]
  },
  {
   "cell_type": "code",
   "execution_count": 7,
   "metadata": {},
   "outputs": [
    {
     "data": {
      "text/plain": [
       "22"
      ]
     },
     "execution_count": 7,
     "metadata": {},
     "output_type": "execute_result"
    }
   ],
   "source": [
    " prog.ro_chs[config['ro_ch']]['length']"
   ]
  },
  {
   "cell_type": "code",
   "execution_count": 8,
   "metadata": {},
   "outputs": [
    {
     "data": {
      "text/plain": [
       "array([0.000e+00, 1.000e-01, 2.000e-01, ..., 9.997e+02, 9.998e+02,\n",
       "       9.999e+02])"
      ]
     },
     "execution_count": 8,
     "metadata": {},
     "output_type": "execute_result"
    }
   ],
   "source": [
    "config['period']*np.arange(len(di))"
   ]
  },
  {
   "cell_type": "code",
   "execution_count": 9,
   "metadata": {},
   "outputs": [
    {
     "data": {
      "text/plain": [
       "(10000,)"
      ]
     },
     "execution_count": 9,
     "metadata": {},
     "output_type": "execute_result"
    }
   ],
   "source": [
    "np.shape(prog.di_buf[0])"
   ]
  },
  {
   "cell_type": "code",
   "execution_count": 10,
   "metadata": {},
   "outputs": [
    {
     "data": {
      "text/plain": [
       "22"
      ]
     },
     "execution_count": 10,
     "metadata": {},
     "output_type": "execute_result"
    }
   ],
   "source": [
    "prog.ro_chs[config['ro_ch']]['length']"
   ]
  },
  {
   "cell_type": "code",
   "execution_count": 11,
   "metadata": {},
   "outputs": [
    {
     "data": {
      "text/plain": [
       "22"
      ]
     },
     "execution_count": 11,
     "metadata": {},
     "output_type": "execute_result"
    }
   ],
   "source": [
    "prog.ro_chs[config['ro_ch']]['length']"
   ]
  },
  {
   "cell_type": "code",
   "execution_count": null,
   "metadata": {},
   "outputs": [],
   "source": []
  }
 ],
 "metadata": {
  "kernelspec": {
   "display_name": "Python 3 (ipykernel)",
   "language": "python",
   "name": "python3"
  },
  "language_info": {
   "codemirror_mode": {
    "name": "ipython",
    "version": 3
   },
   "file_extension": ".py",
   "mimetype": "text/x-python",
   "name": "python",
   "nbconvert_exporter": "python",
   "pygments_lexer": "ipython3",
   "version": "3.10.4"
  }
 },
 "nbformat": 4,
 "nbformat_minor": 4
}
