{
 "cells": [
  {
   "cell_type": "code",
   "execution_count": 1,
   "metadata": {},
   "outputs": [],
   "source": [
    "import sys\n",
    "\n",
    "sys.path.append('../soft/')\n",
    "sys.path.append('../firmware/')\n",
    "\n",
    "from qick import *\n",
    "from qick_training import *\n",
    "from qick.averager_program import QickSweep\n",
    "from qick.averager_program import QickRegister\n",
    "from qick.averager_program import merge_sweeps\n",
    "\n",
    "import numpy as np\n",
    "from numpy.fft import fft, fftshift\n",
    "import matplotlib.pyplot as plt"
   ]
  },
  {
   "cell_type": "code",
   "execution_count": 2,
   "metadata": {},
   "outputs": [
    {
     "data": {
      "application/javascript": [
       "\n",
       "try {\n",
       "require(['notebook/js/codecell'], function(codecell) {\n",
       "  codecell.CodeCell.options_default.highlight_modes[\n",
       "      'magic_text/x-csrc'] = {'reg':[/^%%microblaze/]};\n",
       "  Jupyter.notebook.events.one('kernel_ready.Kernel', function(){\n",
       "      Jupyter.notebook.get_cells().map(function(cell){\n",
       "          if (cell.cell_type == 'code'){ cell.auto_highlight(); } }) ;\n",
       "  });\n",
       "});\n",
       "} catch (e) {};\n"
      ]
     },
     "metadata": {},
     "output_type": "display_data"
    },
    {
     "data": {
      "application/javascript": [
       "\n",
       "try {\n",
       "require(['notebook/js/codecell'], function(codecell) {\n",
       "  codecell.CodeCell.options_default.highlight_modes[\n",
       "      'magic_text/x-csrc'] = {'reg':[/^%%pybind11/]};\n",
       "  Jupyter.notebook.events.one('kernel_ready.Kernel', function(){\n",
       "      Jupyter.notebook.get_cells().map(function(cell){\n",
       "          if (cell.cell_type == 'code'){ cell.auto_highlight(); } }) ;\n",
       "  });\n",
       "});\n",
       "} catch (e) {};\n"
      ]
     },
     "metadata": {},
     "output_type": "display_data"
    },
    {
     "name": "stdout",
     "output_type": "stream",
     "text": [
      "\n",
      "QICK configuration:\n",
      "\n",
      "\tBoard: ZCU216\n",
      "\n",
      "\tSoftware version: 0.2.184\n",
      "\tFirmware timestamp: Wed Sep  6 15:36:36 2023\n",
      "\n",
      "\tGlobal clocks (MHz): tProcessor 349.997, RF reference 245.760\n",
      "\n",
      "\t7 signal generator channels:\n",
      "\t0:\taxis_sg_int4_v1 - tProc output 0, envelope memory 4096 samples\n",
      "\t\tDAC tile 2, blk 0, 16-bit DDS, fabric=307.200 MHz, f_dds=1228.800 MHz\n",
      "\t1:\taxis_sg_int4_v1 - tProc output 1, envelope memory 4096 samples\n",
      "\t\tDAC tile 2, blk 1, 16-bit DDS, fabric=307.200 MHz, f_dds=1228.800 MHz\n",
      "\t2:\taxis_sg_int4_v1 - tProc output 2, envelope memory 4096 samples\n",
      "\t\tDAC tile 2, blk 2, 16-bit DDS, fabric=307.200 MHz, f_dds=1228.800 MHz\n",
      "\t3:\taxis_sg_int4_v1 - tProc output 3, envelope memory 4096 samples\n",
      "\t\tDAC tile 2, blk 3, 16-bit DDS, fabric=307.200 MHz, f_dds=1228.800 MHz\n",
      "\t4:\taxis_signal_gen_v6 - tProc output 4, envelope memory 65536 samples\n",
      "\t\tDAC tile 3, blk 0, 32-bit DDS, fabric=307.200 MHz, f_dds=4915.200 MHz\n",
      "\t5:\taxis_signal_gen_v6 - tProc output 5, envelope memory 65536 samples\n",
      "\t\tDAC tile 3, blk 2, 32-bit DDS, fabric=307.200 MHz, f_dds=4915.200 MHz\n",
      "\t6:\taxis_sg_mux4_v2 - tProc output 6, envelope memory 0 samples\n",
      "\t\tDAC tile 0, blk 0, 32-bit DDS, fabric=307.200 MHz, f_dds=1228.800 MHz\n",
      "\n",
      "\t8 readout channels:\n",
      "\t0:\taxis_pfb_readout_v2 - controlled by PYNQ\n",
      "\t\tADC tile 2, blk 0, 35-bit DDS, fabric=307.200 MHz, fs=2457.600 MHz\n",
      "\t\tmaxlen 16384 (avg) 16384 (decimated)\n",
      "\t\ttriggered by output 7, pin 4, feedback to tProc input 0\n",
      "\t1:\taxis_pfb_readout_v2 - controlled by PYNQ\n",
      "\t\tADC tile 2, blk 0, 35-bit DDS, fabric=307.200 MHz, fs=2457.600 MHz\n",
      "\t\tmaxlen 16384 (avg) 16384 (decimated)\n",
      "\t\ttriggered by output 7, pin 5, feedback to tProc input 1\n",
      "\t2:\taxis_pfb_readout_v2 - controlled by PYNQ\n",
      "\t\tADC tile 2, blk 0, 35-bit DDS, fabric=307.200 MHz, fs=2457.600 MHz\n",
      "\t\tmaxlen 16384 (avg) 16384 (decimated)\n",
      "\t\ttriggered by output 7, pin 6, feedback to tProc input 2\n",
      "\t3:\taxis_pfb_readout_v2 - controlled by PYNQ\n",
      "\t\tADC tile 2, blk 0, 35-bit DDS, fabric=307.200 MHz, fs=2457.600 MHz\n",
      "\t\tmaxlen 16384 (avg) 16384 (decimated)\n",
      "\t\ttriggered by output 7, pin 7, feedback to tProc input 3\n",
      "\t4:\taxis_readout_v2 - controlled by PYNQ\n",
      "\t\tADC tile 3, blk 0, 32-bit DDS, fabric=307.200 MHz, fs=2457.600 MHz\n",
      "\t\tmaxlen 16384 (avg) 16384 (decimated)\n",
      "\t\ttriggered by output 7, pin 8, feedback to tProc input -1\n",
      "\t5:\taxis_readout_v2 - controlled by PYNQ\n",
      "\t\tADC tile 3, blk 1, 32-bit DDS, fabric=307.200 MHz, fs=2457.600 MHz\n",
      "\t\tmaxlen 16384 (avg) 16384 (decimated)\n",
      "\t\ttriggered by output 7, pin 9, feedback to tProc input -1\n",
      "\t6:\taxis_readout_v2 - controlled by PYNQ\n",
      "\t\tADC tile 3, blk 2, 32-bit DDS, fabric=307.200 MHz, fs=2457.600 MHz\n",
      "\t\tmaxlen 16384 (avg) 16384 (decimated)\n",
      "\t\ttriggered by output 7, pin 10, feedback to tProc input -1\n",
      "\t7:\taxis_readout_v2 - controlled by PYNQ\n",
      "\t\tADC tile 3, blk 3, 32-bit DDS, fabric=307.200 MHz, fs=2457.600 MHz\n",
      "\t\tmaxlen 16384 (avg) 16384 (decimated)\n",
      "\t\ttriggered by output 7, pin 11, feedback to tProc input -1\n",
      "\n",
      "\t8 DACs:\n",
      "\t\tDAC tile 0, blk 0 is 0_228, on JHC1\n",
      "\t\tDAC tile 1, blk 0 is 0_229, on JHC1\n",
      "\t\tDAC tile 2, blk 0 is 0_230, on JHC3\n",
      "\t\tDAC tile 2, blk 1 is 1_230, on JHC4\n",
      "\t\tDAC tile 2, blk 2 is 2_230, on JHC3\n",
      "\t\tDAC tile 2, blk 3 is 3_230, on JHC4\n",
      "\t\tDAC tile 3, blk 0 is 0_231, on JHC3\n",
      "\t\tDAC tile 3, blk 2 is 2_231, on JHC3\n",
      "\n",
      "\t6 ADCs:\n",
      "\t\tADC tile 2, blk 0 is 0_226, on JHC7\n",
      "\t\tADC tile 2, blk 2 is 2_226, on JHC7\n",
      "\t\tADC tile 3, blk 0 is 0_227, on JHC7\n",
      "\t\tADC tile 3, blk 1 is 1_227, on JHC8\n",
      "\t\tADC tile 3, blk 2 is 2_227, on JHC7\n",
      "\t\tADC tile 3, blk 3 is 3_227, on JHC8\n",
      "\n",
      "\t12 digital output pins:\n",
      "\t0:\tPMOD0_0_LS (output 7, pin 0)\n",
      "\t1:\tPMOD0_1_LS (output 7, pin 1)\n",
      "\t2:\tPMOD0_2_LS (output 7, pin 2)\n",
      "\t3:\tPMOD0_3_LS (output 7, pin 3)\n",
      "\t4:\tResonator 0 (output 7, pin 12)\n",
      "\t5:\tResonator 1 (output 7, pin 13)\n",
      "\t6:\tResonator 2 (output 7, pin 14)\n",
      "\t7:\tResonator 3 (output 7, pin 15)\n",
      "\t8:\tResonator 4 (output 7, pin 16)\n",
      "\t9:\tResonator 5 (output 7, pin 17)\n",
      "\t10:\tResonator 6 (output 7, pin 18)\n",
      "\t11:\tResonator 7 (output 7, pin 19)\n",
      "\n",
      "\ttProc axis_tproc64x32_x8: program memory 1024 words, data memory 1024 words\n",
      "\t\texternal start pin: PMOD1_0_LS\n"
     ]
    }
   ],
   "source": [
    "# Load bitstream with custom overlay\n",
    "soc = QickTrainingSoc('../firmware/qick_training.bit')\n",
    "soccfg = soc\n",
    "\n",
    "print(soccfg)"
   ]
  },
  {
   "cell_type": "markdown",
   "metadata": {},
   "source": [
    "## Resonator Tests\n",
    "This example sets the Resonator Emulator Block for scanning with an external VNA. Examples include:\n",
    "1. Disable all resonators to perform a wide-scan of the ADC-Resonator-DAC chain.\n",
    "2. Enable one resonator to find it and perform phase-calibration with VNA.\n",
    "3. Change resonator parameters (advanced mode).\n",
    "4. Enable two resonators at the same time."
   ]
  },
  {
   "cell_type": "code",
   "execution_count": 8,
   "metadata": {},
   "outputs": [
    {
     "data": {
      "image/png": "[encoded data removed]",
      "text/plain": [
       "<IPython.core.display.Image object>"
      ]
     },
     "metadata": {},
     "output_type": "display_data"
    }
   ],
   "source": [
    "from IPython.display import Image, display\n",
    "display(Image(filename='images/connections_demo04.png', embed=True))"
   ]
  },
  {
   "cell_type": "code",
   "execution_count": 3,
   "metadata": {},
   "outputs": [],
   "source": [
    "######################################\n",
    "### Build Resonator Emulator Chain ###\n",
    "######################################\n",
    "simu = SimuChain(soc,soc['simu'][0], name=\"226_2 <-> 229_0\")"
   ]
  },
  {
   "cell_type": "code",
   "execution_count": 4,
   "metadata": {},
   "outputs": [],
   "source": [
    "##############################\n",
    "### Disable all resonators ###\n",
    "##############################\n",
    "simu.qout(3)\n",
    "simu.synthesis.qout(1)\n",
    "\n",
    "# Disable all resonators.\n",
    "simu.alloff()"
   ]
  },
  {
   "cell_type": "code",
   "execution_count": 5,
   "metadata": {},
   "outputs": [],
   "source": [
    "####################################################\n",
    "### Enable one resonator with default parameters ###\n",
    "####################################################\n",
    "# Disable all resonators.\n",
    "simu.alloff()\n",
    "\n",
    "# Enable resonator.\n",
    "simu.enable(499.3)"
   ]
  },
  {
   "cell_type": "code",
   "execution_count": 6,
   "metadata": {},
   "outputs": [],
   "source": [
    "###################################\n",
    "### Change resonator parameters ###\n",
    "###################################\n",
    "# Disable all resonators.\n",
    "simu.alloff()\n",
    "\n",
    "# Set parameters of resonator.\n",
    "cfg = {'sel':'resonator', \"freq\":499.3, 'iir_c0':0.9, 'iir_c1':0.3}\n",
    "simu.set_resonator(cfg)"
   ]
  },
  {
   "cell_type": "code",
   "execution_count": 7,
   "metadata": {},
   "outputs": [],
   "source": [
    "######################################\n",
    "### Enable two resonators together ###\n",
    "######################################\n",
    "# Disable all resonators.\n",
    "simu.alloff()\n",
    "\n",
    "# Enable resonator.\n",
    "simu.enable(499.3)\n",
    "simu.enable(503)"
   ]
  },
  {
   "cell_type": "code",
   "execution_count": null,
   "metadata": {},
   "outputs": [],
   "source": []
  }
 ],
 "metadata": {
  "kernelspec": {
   "display_name": "Python 3 (ipykernel)",
   "language": "python",
   "name": "python3"
  },
  "language_info": {
   "codemirror_mode": {
    "name": "ipython",
    "version": 3
   },
   "file_extension": ".py",
   "mimetype": "text/x-python",
   "name": "python",
   "nbconvert_exporter": "python",
   "pygments_lexer": "ipython3",
   "version": "3.10.4"
  }
 },
 "nbformat": 4,
 "nbformat_minor": 4
}
